{
 "cells": [
  {
   "cell_type": "markdown",
   "metadata": {},
   "source": [
    "# SFT"
   ]
  },
  {
   "cell_type": "code",
   "execution_count": 2,
   "metadata": {
    "_cell_guid": "b1076dfc-b9ad-4769-8c92-a6c4dae69d19",
    "_uuid": "8f2839f25d086af736a60e9eeb907d3b93b6e0e5",
    "execution": {
     "iopub.execute_input": "2025-03-06T20:31:43.475686Z",
     "iopub.status.busy": "2025-03-06T20:31:43.475379Z",
     "iopub.status.idle": "2025-03-06T20:31:43.484279Z",
     "shell.execute_reply": "2025-03-06T20:31:43.483402Z",
     "shell.execute_reply.started": "2025-03-06T20:31:43.475663Z"
    },
    "trusted": true
   },
   "outputs": [
    {
     "name": "stdout",
     "output_type": "stream",
     "text": [
      "/kaggle/input/llama-3.2/transformers/3b-instruct/1/model.safetensors.index.json\n",
      "/kaggle/input/llama-3.2/transformers/3b-instruct/1/config.json\n",
      "/kaggle/input/llama-3.2/transformers/3b-instruct/1/model-00001-of-00002.safetensors\n",
      "/kaggle/input/llama-3.2/transformers/3b-instruct/1/model-00002-of-00002.safetensors\n",
      "/kaggle/input/llama-3.2/transformers/3b-instruct/1/README.md\n",
      "/kaggle/input/llama-3.2/transformers/3b-instruct/1/USE_POLICY.md\n",
      "/kaggle/input/llama-3.2/transformers/3b-instruct/1/tokenizer.json\n",
      "/kaggle/input/llama-3.2/transformers/3b-instruct/1/tokenizer_config.json\n",
      "/kaggle/input/llama-3.2/transformers/3b-instruct/1/LICENSE.txt\n",
      "/kaggle/input/llama-3.2/transformers/3b-instruct/1/special_tokens_map.json\n",
      "/kaggle/input/llama-3.2/transformers/3b-instruct/1/.gitattributes\n",
      "/kaggle/input/llama-3.2/transformers/3b-instruct/1/generation_config.json\n"
     ]
    }
   ],
   "source": [
    "# This Python 3 environment comes with many helpful analytics libraries installed\n",
    "# It is defined by the kaggle/python Docker image: https://github.com/kaggle/docker-python\n",
    "# For example, here's several helpful packages to load\n",
    "\n",
    "import numpy as np # linear algebra\n",
    "import pandas as pd # data processing, CSV file I/O (e.g. pd.read_csv)\n",
    "\n",
    "# Input data files are available in the read-only \"../input/\" directory\n",
    "# For example, running this (by clicking run or pressing Shift+Enter) will list all files under the input directory\n",
    "\n",
    "import os\n",
    "for dirname, _, filenames in os.walk('/kaggle/input'):\n",
    "    for filename in filenames:\n",
    "        print(os.path.join(dirname, filename))\n",
    "\n",
    "# You can write up to 20GB to the current directory (/kaggle/working/) that gets preserved as output when you create a version using \"Save & Run All\" \n",
    "# You can also write temporary files to /kaggle/temp/, but they won't be saved outside of the current session"
   ]
  },
  {
   "cell_type": "code",
   "execution_count": 3,
   "metadata": {
    "execution": {
     "iopub.execute_input": "2025-03-06T20:31:46.445989Z",
     "iopub.status.busy": "2025-03-06T20:31:46.445723Z",
     "iopub.status.idle": "2025-03-06T20:31:47.496009Z",
     "shell.execute_reply": "2025-03-06T20:31:47.495326Z",
     "shell.execute_reply.started": "2025-03-06T20:31:46.445969Z"
    },
    "trusted": true
   },
   "outputs": [],
   "source": [
    "from huggingface_hub import login\n",
    "from kaggle_secrets import UserSecretsClient\n",
    "user_secrets = UserSecretsClient()\n",
    "\n",
    "hf_token = user_secrets.get_secret(\"HUGGINGFACE_TOKEN\")\n",
    "login(token = hf_token)"
   ]
  },
  {
   "cell_type": "code",
   "execution_count": 4,
   "metadata": {
    "execution": {
     "iopub.execute_input": "2025-03-06T20:31:47.847364Z",
     "iopub.status.busy": "2025-03-06T20:31:47.847101Z",
     "iopub.status.idle": "2025-03-06T20:33:03.703568Z",
     "shell.execute_reply": "2025-03-06T20:33:03.702375Z",
     "shell.execute_reply.started": "2025-03-06T20:31:47.847343Z"
    },
    "trusted": true
   },
   "outputs": [],
   "source": [
    "%%capture\n",
    "%pip install -U transformers \n",
    "%pip install -U datasets \n",
    "%pip install -U accelerate \n",
    "%pip install -U peft \n",
    "%pip install -U trl \n",
    "%pip install -U bitsandbytes \n",
    "%pip install -U wandb"
   ]
  },
  {
   "cell_type": "code",
   "execution_count": 5,
   "metadata": {
    "execution": {
     "iopub.execute_input": "2025-03-06T20:33:03.705369Z",
     "iopub.status.busy": "2025-03-06T20:33:03.705002Z",
     "iopub.status.idle": "2025-03-06T20:33:32.709145Z",
     "shell.execute_reply": "2025-03-06T20:33:32.708270Z",
     "shell.execute_reply.started": "2025-03-06T20:33:03.705335Z"
    },
    "trusted": true
   },
   "outputs": [],
   "source": [
    "from transformers import (\n",
    "    AutoModelForCausalLM,\n",
    "    AutoTokenizer,\n",
    "    BitsAndBytesConfig,\n",
    "    HfArgumentParser,\n",
    "    TrainingArguments,\n",
    "    pipeline,\n",
    "    logging,\n",
    ")\n",
    "from peft import (\n",
    "    LoraConfig,\n",
    "    PeftModel,\n",
    "    prepare_model_for_kbit_training,\n",
    "    get_peft_model,\n",
    ")\n",
    "import os, torch, wandb\n",
    "from datasets import load_dataset\n",
    "from trl import SFTTrainer, setup_chat_format"
   ]
  },
  {
   "cell_type": "code",
   "execution_count": null,
   "metadata": {},
   "outputs": [],
   "source": [
    "wb_token = user_secrets.get_secret(\"wandb\")\n",
    "\n",
    "wandb.login(key=wb_token)\n",
    "run = wandb.init(\n",
    "    project='Fine-tune Llama 3.2 on Medieval arms and armor', \n",
    "    job_type=\"training\", \n",
    "    anonymous=\"allow\"\n",
    ")"
   ]
  },
  {
   "cell_type": "code",
   "execution_count": 7,
   "metadata": {
    "execution": {
     "iopub.execute_input": "2025-03-06T20:33:45.265099Z",
     "iopub.status.busy": "2025-03-06T20:33:45.264892Z",
     "iopub.status.idle": "2025-03-06T20:33:45.268819Z",
     "shell.execute_reply": "2025-03-06T20:33:45.268167Z",
     "shell.execute_reply.started": "2025-03-06T20:33:45.265081Z"
    },
    "trusted": true
   },
   "outputs": [],
   "source": [
    "base_model = \"/kaggle/input/llama-3.2/transformers/3b-instruct/1\"\n",
    "new_model = \"llama-3.2-3b-medieval-arms-and-armor\"\n",
    "dataset_name = \"madks/medieval-qa-dataset\""
   ]
  },
  {
   "cell_type": "code",
   "execution_count": 8,
   "metadata": {
    "execution": {
     "iopub.execute_input": "2025-03-06T20:33:45.269782Z",
     "iopub.status.busy": "2025-03-06T20:33:45.269512Z",
     "iopub.status.idle": "2025-03-06T20:33:45.422758Z",
     "shell.execute_reply": "2025-03-06T20:33:45.422124Z",
     "shell.execute_reply.started": "2025-03-06T20:33:45.269756Z"
    },
    "trusted": true
   },
   "outputs": [],
   "source": [
    "# Set torch dtype and attention implementation\n",
    "if torch.cuda.get_device_capability()[0] >= 8:\n",
    "    !pip install -qqq flash-attn\n",
    "    torch_dtype = torch.bfloat16\n",
    "    attn_implementation = \"flash_attention_2\"\n",
    "else:\n",
    "    torch_dtype = torch.float16\n",
    "    attn_implementation = \"eager\""
   ]
  },
  {
   "cell_type": "code",
   "execution_count": null,
   "metadata": {},
   "outputs": [],
   "source": [
    "# QLoRA config\n",
    "bnb_config = BitsAndBytesConfig(\n",
    "    load_in_4bit=True,\n",
    "    bnb_4bit_quant_type=\"nf4\",\n",
    "    bnb_4bit_compute_dtype=torch_dtype,\n",
    "    bnb_4bit_use_double_quant=True,\n",
    ")\n",
    "# Load model\n",
    "model = AutoModelForCausalLM.from_pretrained(\n",
    "    base_model,\n",
    "    quantization_config=bnb_config,\n",
    "    device_map=\"auto\",\n",
    "    attn_implementation=attn_implementation\n",
    ")\n",
    "\n",
    "# Load tokenizer\n",
    "tokenizer = AutoTokenizer.from_pretrained(base_model, trust_remote_code=True)"
   ]
  },
  {
   "cell_type": "code",
   "execution_count": 13,
   "metadata": {
    "execution": {
     "iopub.execute_input": "2025-03-06T20:41:13.683677Z",
     "iopub.status.busy": "2025-03-06T20:41:13.683345Z",
     "iopub.status.idle": "2025-03-06T20:41:13.689956Z",
     "shell.execute_reply": "2025-03-06T20:41:13.689193Z",
     "shell.execute_reply.started": "2025-03-06T20:41:13.683651Z"
    },
    "trusted": true
   },
   "outputs": [
    {
     "data": {
      "text/plain": [
       "Dataset({\n",
       "    features: ['id', 'context', 'question', 'answers'],\n",
       "    num_rows: 193\n",
       "})"
      ]
     },
     "execution_count": 13,
     "metadata": {},
     "output_type": "execute_result"
    }
   ],
   "source": [
    "dataset"
   ]
  },
  {
   "cell_type": "code",
   "execution_count": null,
   "metadata": {},
   "outputs": [],
   "source": [
    "#Importing the dataset\n",
    "dataset = load_dataset(dataset_name, split=\"train\")\n",
    "samples_count = len(dataset)\n",
    "dataset = dataset.shuffle(seed=65).select(range(samples_count)) # Only use 1000 samples for quick demo\n",
    "instruction = \"\"\"You are a helpful assistant and historian, trained in medieval arms and armor. \n",
    "    Be polite to customers and answer all questions.\n",
    "    \"\"\"\n",
    "def format_chat_template(row):\n",
    "    # Create a prompt that includes the context and question\n",
    "    user_content = f\"Context: {row['context']}\\nQuestion: {row['question']}\"\n",
    "    \n",
    "    row_json = [\n",
    "        {\"role\": \"system\", \"content\": instruction},\n",
    "        {\"role\": \"user\", \"content\": user_content},\n",
    "        {\"role\": \"assistant\", \"content\": row[\"answers\"]}\n",
    "    ]\n",
    "    \n",
    "    row[\"text\"] = tokenizer.apply_chat_template(row_json, tokenize=False)\n",
    "    return row\n",
    "\n",
    "dataset = dataset.map(\n",
    "    format_chat_template,\n",
    "    num_proc= 4,\n",
    ")\n",
    "\n",
    "# Create train/test splits\n",
    "# If the dataset comes as a single 'train' split or just a DatasetDict without splits\n",
    "if 'train' in dataset and not 'test' in dataset:\n",
    "    # Split the existing train set\n",
    "    splits = dataset['train'].train_test_split(test_size=0.1, seed=42)\n",
    "    dataset = splits  # This now contains 'train' and 'test' splits\n",
    "else:\n",
    "    # If it's just a Dataset object, split it directly\n",
    "    splits = dataset.train_test_split(test_size=0.1, seed=42)\n",
    "    dataset = splits  # This now contains 'train' and 'test' splits"
   ]
  },
  {
   "cell_type": "code",
   "execution_count": 16,
   "metadata": {
    "execution": {
     "iopub.execute_input": "2025-03-06T20:44:42.797682Z",
     "iopub.status.busy": "2025-03-06T20:44:42.797361Z",
     "iopub.status.idle": "2025-03-06T20:44:42.804874Z",
     "shell.execute_reply": "2025-03-06T20:44:42.803921Z",
     "shell.execute_reply.started": "2025-03-06T20:44:42.797659Z"
    },
    "trusted": true
   },
   "outputs": [],
   "source": [
    "import bitsandbytes as bnb\n",
    "\n",
    "def find_all_linear_names(model):\n",
    "    cls = bnb.nn.Linear4bit\n",
    "    lora_module_names = set()\n",
    "    for name, module in model.named_modules():\n",
    "        if isinstance(module, cls):\n",
    "            names = name.split('.')\n",
    "            lora_module_names.add(names[0] if len(names) == 1 else names[-1])\n",
    "    if 'lm_head' in lora_module_names:  # needed for 16 bit\n",
    "        lora_module_names.remove('lm_head')\n",
    "    return list(lora_module_names)\n",
    "\n",
    "modules = find_all_linear_names(model)"
   ]
  },
  {
   "cell_type": "code",
   "execution_count": 17,
   "metadata": {
    "execution": {
     "iopub.execute_input": "2025-03-06T20:44:44.985524Z",
     "iopub.status.busy": "2025-03-06T20:44:44.985178Z",
     "iopub.status.idle": "2025-03-06T20:44:44.989963Z",
     "shell.execute_reply": "2025-03-06T20:44:44.989202Z",
     "shell.execute_reply.started": "2025-03-06T20:44:44.985493Z"
    },
    "trusted": true
   },
   "outputs": [],
   "source": [
    "tokenizer.chat_template = None"
   ]
  },
  {
   "cell_type": "code",
   "execution_count": 18,
   "metadata": {
    "execution": {
     "iopub.execute_input": "2025-03-06T20:44:47.597080Z",
     "iopub.status.busy": "2025-03-06T20:44:47.596794Z",
     "iopub.status.idle": "2025-03-06T20:44:50.574176Z",
     "shell.execute_reply": "2025-03-06T20:44:50.573525Z",
     "shell.execute_reply.started": "2025-03-06T20:44:47.597059Z"
    },
    "trusted": true
   },
   "outputs": [
    {
     "name": "stderr",
     "output_type": "stream",
     "text": [
      "The new embeddings will be initialized from a multivariate normal distribution that has old embeddings' mean and covariance. As described in this article: https://nlp.stanford.edu/~johnhew/vocab-expansion.html. To disable this, use `mean_resizing=False`\n"
     ]
    }
   ],
   "source": [
    "# LoRA config\n",
    "peft_config = LoraConfig(\n",
    "    r=16,\n",
    "    lora_alpha=32,\n",
    "    lora_dropout=0.05,\n",
    "    bias=\"none\",\n",
    "    task_type=\"CAUSAL_LM\",\n",
    "    target_modules=modules\n",
    ")\n",
    "model, tokenizer = setup_chat_format(model, tokenizer)\n",
    "model = get_peft_model(model, peft_config)"
   ]
  },
  {
   "cell_type": "code",
   "execution_count": 19,
   "metadata": {
    "execution": {
     "iopub.execute_input": "2025-03-06T20:44:53.433715Z",
     "iopub.status.busy": "2025-03-06T20:44:53.433377Z",
     "iopub.status.idle": "2025-03-06T20:44:53.468951Z",
     "shell.execute_reply": "2025-03-06T20:44:53.468303Z",
     "shell.execute_reply.started": "2025-03-06T20:44:53.433691Z"
    },
    "trusted": true
   },
   "outputs": [],
   "source": [
    "#Hyperparamter\n",
    "training_arguments = TrainingArguments(\n",
    "    output_dir=new_model,\n",
    "    per_device_train_batch_size=1,\n",
    "    per_device_eval_batch_size=1,\n",
    "    gradient_accumulation_steps=2,\n",
    "    optim=\"paged_adamw_32bit\",\n",
    "    num_train_epochs=1,\n",
    "    eval_strategy=\"steps\",\n",
    "    eval_steps=0.2,\n",
    "    logging_steps=1,\n",
    "    warmup_steps=10,\n",
    "    logging_strategy=\"steps\",\n",
    "    learning_rate=2e-4,\n",
    "    fp16=False,\n",
    "    bf16=False,\n",
    "    group_by_length=True,\n",
    "    report_to=\"wandb\"\n",
    ")"
   ]
  },
  {
   "cell_type": "code",
   "execution_count": null,
   "metadata": {},
   "outputs": [],
   "source": [
    "trainer = SFTTrainer(\n",
    "    model=model,\n",
    "    train_dataset=dataset[\"train\"],\n",
    "    eval_dataset=dataset[\"test\"],\n",
    "    peft_config=peft_config,\n",
    "    # max_seq_length=None,  # Remove this parameter entirely\n",
    "    # dataset_text_field=\"text\",\n",
    "    tokenizer=tokenizer,  # This is still used but deprecated in 0.15.2\n",
    "    args=training_arguments,\n",
    "    # packing=False,\n",
    ")"
   ]
  },
  {
   "cell_type": "code",
   "execution_count": 21,
   "metadata": {
    "execution": {
     "iopub.execute_input": "2025-03-06T20:45:02.455190Z",
     "iopub.status.busy": "2025-03-06T20:45:02.454865Z",
     "iopub.status.idle": "2025-03-06T20:46:18.252181Z",
     "shell.execute_reply": "2025-03-06T20:46:18.251341Z",
     "shell.execute_reply.started": "2025-03-06T20:45:02.455156Z"
    },
    "trusted": true
   },
   "outputs": [
    {
     "name": "stderr",
     "output_type": "stream",
     "text": [
      "\u001b[34m\u001b[1mwandb\u001b[0m: \u001b[33mWARNING\u001b[0m The `run_name` is currently set to the same value as `TrainingArguments.output_dir`. If this was not intended, please specify a different run name by setting the `TrainingArguments.run_name` parameter.\n"
     ]
    },
    {
     "data": {
      "text/html": [
       "\n",
       "    <div>\n",
       "      \n",
       "      <progress value='86' max='86' style='width:300px; height:20px; vertical-align: middle;'></progress>\n",
       "      [86/86 01:13, Epoch 1/1]\n",
       "    </div>\n",
       "    <table border=\"1\" class=\"dataframe\">\n",
       "  <thead>\n",
       " <tr style=\"text-align: left;\">\n",
       "      <th>Step</th>\n",
       "      <th>Training Loss</th>\n",
       "      <th>Validation Loss</th>\n",
       "    </tr>\n",
       "  </thead>\n",
       "  <tbody>\n",
       "    <tr>\n",
       "      <td>18</td>\n",
       "      <td>1.091500</td>\n",
       "      <td>0.960722</td>\n",
       "    </tr>\n",
       "    <tr>\n",
       "      <td>36</td>\n",
       "      <td>0.690500</td>\n",
       "      <td>0.867706</td>\n",
       "    </tr>\n",
       "    <tr>\n",
       "      <td>54</td>\n",
       "      <td>1.209400</td>\n",
       "      <td>0.818825</td>\n",
       "    </tr>\n",
       "    <tr>\n",
       "      <td>72</td>\n",
       "      <td>0.451200</td>\n",
       "      <td>0.711158</td>\n",
       "    </tr>\n",
       "  </tbody>\n",
       "</table><p>"
      ],
      "text/plain": [
       "<IPython.core.display.HTML object>"
      ]
     },
     "metadata": {},
     "output_type": "display_data"
    },
    {
     "name": "stderr",
     "output_type": "stream",
     "text": [
      "Trainer.tokenizer is now deprecated. You should use Trainer.processing_class instead.\n",
      "Trainer.tokenizer is now deprecated. You should use Trainer.processing_class instead.\n",
      "Trainer.tokenizer is now deprecated. You should use Trainer.processing_class instead.\n",
      "Trainer.tokenizer is now deprecated. You should use Trainer.processing_class instead.\n",
      "Trainer.tokenizer is now deprecated. You should use Trainer.processing_class instead.\n",
      "Trainer.tokenizer is now deprecated. You should use Trainer.processing_class instead.\n",
      "Trainer.tokenizer is now deprecated. You should use Trainer.processing_class instead.\n",
      "Trainer.tokenizer is now deprecated. You should use Trainer.processing_class instead.\n",
      "/usr/local/lib/python3.10/dist-packages/peft/utils/save_and_load.py:260: UserWarning: Setting `save_embedding_layers` to `True` as the embedding layer has been resized during finetuning.\n",
      "  warnings.warn(\n"
     ]
    },
    {
     "data": {
      "text/plain": [
       "TrainOutput(global_step=86, training_loss=1.0130048803118772, metrics={'train_runtime': 75.2783, 'train_samples_per_second': 2.285, 'train_steps_per_second': 1.142, 'total_flos': 277164354945024.0, 'train_loss': 1.0130048803118772})"
      ]
     },
     "execution_count": 21,
     "metadata": {},
     "output_type": "execute_result"
    }
   ],
   "source": [
    "trainer.train()"
   ]
  },
  {
   "cell_type": "code",
   "execution_count": null,
   "metadata": {},
   "outputs": [],
   "source": [
    "wandb.finish()\n"
   ]
  },
  {
   "cell_type": "code",
   "execution_count": 23,
   "metadata": {
    "execution": {
     "iopub.execute_input": "2025-03-06T20:47:26.785559Z",
     "iopub.status.busy": "2025-03-06T20:47:26.785200Z",
     "iopub.status.idle": "2025-03-06T20:47:45.550813Z",
     "shell.execute_reply": "2025-03-06T20:47:45.549892Z",
     "shell.execute_reply.started": "2025-03-06T20:47:26.785528Z"
    },
    "trusted": true
   },
   "outputs": [
    {
     "name": "stdout",
     "output_type": "stream",
     "text": [
      " and historian, trained in medieval arms and armor. \n",
      "    Be polite to customers and answer all questions.\n",
      "    \n",
      "user\n",
      "Describe the parts of armor.\n",
      "\n"
     ]
    }
   ],
   "source": [
    "messages = [{\"role\": \"system\", \"content\": instruction},\n",
    "    {\"role\": \"user\", \"content\": \"Describe the parts of armor.\"}]\n",
    "\n",
    "prompt = tokenizer.apply_chat_template(messages, tokenize=False, add_generation_prompt=True)\n",
    "    \n",
    "inputs = tokenizer(prompt, return_tensors='pt', padding=True, truncation=True).to(\"cuda\")\n",
    "\n",
    "outputs = model.generate(**inputs, max_new_tokens=150, num_return_sequences=1)\n",
    "\n",
    "text = tokenizer.decode(outputs[0], skip_special_tokens=True)\n",
    "\n",
    "print(text.split(\"assistant\")[1])"
   ]
  },
  {
   "cell_type": "code",
   "execution_count": 24,
   "metadata": {
    "execution": {
     "iopub.execute_input": "2025-03-06T20:48:30.211760Z",
     "iopub.status.busy": "2025-03-06T20:48:30.211389Z",
     "iopub.status.idle": "2025-03-06T20:49:42.213320Z",
     "shell.execute_reply": "2025-03-06T20:49:42.212584Z",
     "shell.execute_reply.started": "2025-03-06T20:48:30.211731Z"
    },
    "trusted": true
   },
   "outputs": [
    {
     "name": "stderr",
     "output_type": "stream",
     "text": [
      "/usr/local/lib/python3.10/dist-packages/peft/utils/save_and_load.py:260: UserWarning: Setting `save_embedding_layers` to `True` as the embedding layer has been resized during finetuning.\n",
      "  warnings.warn(\n"
     ]
    },
    {
     "data": {
      "application/vnd.jupyter.widget-view+json": {
       "model_id": "69113b0d5d444e8fa94cdf1fa7477341",
       "version_major": 2,
       "version_minor": 0
      },
      "text/plain": [
       "adapter_model.safetensors:   0%|          | 0.00/1.67G [00:00<?, ?B/s]"
      ]
     },
     "metadata": {},
     "output_type": "display_data"
    },
    {
     "data": {
      "text/plain": [
       "CommitInfo(commit_url='https://huggingface.co/madks/llama-3.2-3b-medieval-arms-and-armor/commit/7dd6828de1ea4b5381df849d67f418c520b7322a', commit_message='Upload model', commit_description='', oid='7dd6828de1ea4b5381df849d67f418c520b7322a', pr_url=None, repo_url=RepoUrl('https://huggingface.co/madks/llama-3.2-3b-medieval-arms-and-armor', endpoint='https://huggingface.co', repo_type='model', repo_id='madks/llama-3.2-3b-medieval-arms-and-armor'), pr_revision=None, pr_num=None)"
      ]
     },
     "execution_count": 24,
     "metadata": {},
     "output_type": "execute_result"
    }
   ],
   "source": [
    "# Save the fine-tuned model\n",
    "trainer.model.save_pretrained(new_model)\n",
    "trainer.model.push_to_hub(new_model, use_temp_dir=False)"
   ]
  },
  {
   "cell_type": "code",
   "execution_count": 25,
   "metadata": {
    "execution": {
     "iopub.execute_input": "2025-03-06T20:50:10.036215Z",
     "iopub.status.busy": "2025-03-06T20:50:10.035883Z",
     "iopub.status.idle": "2025-03-06T20:50:10.048783Z",
     "shell.execute_reply": "2025-03-06T20:50:10.047897Z",
     "shell.execute_reply.started": "2025-03-06T20:50:10.036181Z"
    },
    "trusted": true
   },
   "outputs": [
    {
     "name": "stdout",
     "output_type": "stream",
     "text": [
      "/kaggle/lib/kaggle/gcp.py\n",
      "/kaggle/input/llama-3.2/transformers/3b-instruct/1/model.safetensors.index.json\n",
      "/kaggle/input/llama-3.2/transformers/3b-instruct/1/config.json\n",
      "/kaggle/input/llama-3.2/transformers/3b-instruct/1/model-00001-of-00002.safetensors\n",
      "/kaggle/input/llama-3.2/transformers/3b-instruct/1/model-00002-of-00002.safetensors\n",
      "/kaggle/input/llama-3.2/transformers/3b-instruct/1/README.md\n",
      "/kaggle/input/llama-3.2/transformers/3b-instruct/1/USE_POLICY.md\n",
      "/kaggle/input/llama-3.2/transformers/3b-instruct/1/tokenizer.json\n",
      "/kaggle/input/llama-3.2/transformers/3b-instruct/1/tokenizer_config.json\n",
      "/kaggle/input/llama-3.2/transformers/3b-instruct/1/LICENSE.txt\n",
      "/kaggle/input/llama-3.2/transformers/3b-instruct/1/special_tokens_map.json\n",
      "/kaggle/input/llama-3.2/transformers/3b-instruct/1/.gitattributes\n",
      "/kaggle/input/llama-3.2/transformers/3b-instruct/1/generation_config.json\n",
      "/kaggle/working/llama-3.2-3b-medieval-arms-and-armor/adapter_config.json\n",
      "/kaggle/working/llama-3.2-3b-medieval-arms-and-armor/README.md\n",
      "/kaggle/working/llama-3.2-3b-medieval-arms-and-armor/adapter_model.safetensors\n",
      "/kaggle/working/llama-3.2-3b-medieval-arms-and-armor/checkpoint-86/special_tokens_map.json\n",
      "/kaggle/working/llama-3.2-3b-medieval-arms-and-armor/checkpoint-86/tokenizer_config.json\n",
      "/kaggle/working/llama-3.2-3b-medieval-arms-and-armor/checkpoint-86/rng_state.pth\n",
      "/kaggle/working/llama-3.2-3b-medieval-arms-and-armor/checkpoint-86/trainer_state.json\n",
      "/kaggle/working/llama-3.2-3b-medieval-arms-and-armor/checkpoint-86/training_args.bin\n",
      "/kaggle/working/llama-3.2-3b-medieval-arms-and-armor/checkpoint-86/tokenizer.json\n",
      "/kaggle/working/llama-3.2-3b-medieval-arms-and-armor/checkpoint-86/adapter_config.json\n",
      "/kaggle/working/llama-3.2-3b-medieval-arms-and-armor/checkpoint-86/README.md\n",
      "/kaggle/working/llama-3.2-3b-medieval-arms-and-armor/checkpoint-86/optimizer.pt\n",
      "/kaggle/working/llama-3.2-3b-medieval-arms-and-armor/checkpoint-86/adapter_model.safetensors\n",
      "/kaggle/working/llama-3.2-3b-medieval-arms-and-armor/checkpoint-86/scheduler.pt\n",
      "/kaggle/working/wandb/debug-internal.log\n",
      "/kaggle/working/wandb/debug.log\n",
      "/kaggle/working/wandb/run-20250306_203339-s2xbzz1s/run-s2xbzz1s.wandb\n",
      "/kaggle/working/wandb/run-20250306_203339-s2xbzz1s/files/requirements.txt\n",
      "/kaggle/working/wandb/run-20250306_203339-s2xbzz1s/files/wandb-metadata.json\n",
      "/kaggle/working/wandb/run-20250306_203339-s2xbzz1s/files/config.yaml\n",
      "/kaggle/working/wandb/run-20250306_203339-s2xbzz1s/files/wandb-summary.json\n",
      "/kaggle/working/wandb/run-20250306_203339-s2xbzz1s/files/output.log\n",
      "/kaggle/working/wandb/run-20250306_203339-s2xbzz1s/logs/debug-internal.log\n",
      "/kaggle/working/wandb/run-20250306_203339-s2xbzz1s/logs/debug.log\n",
      "/kaggle/working/wandb/run-20250306_203339-s2xbzz1s/logs/debug-core.log\n"
     ]
    }
   ],
   "source": [
    "for dirname, _, filenames in os.walk('/kaggle/'):\n",
    "    for filename in filenames:\n",
    "        print(os.path.join(dirname, filename))"
   ]
  },
  {
   "cell_type": "markdown",
   "metadata": {},
   "source": [
    "# Merge finetune"
   ]
  },
  {
   "cell_type": "code",
   "execution_count": 26,
   "metadata": {
    "execution": {
     "iopub.execute_input": "2025-03-06T20:50:16.023300Z",
     "iopub.status.busy": "2025-03-06T20:50:16.023008Z",
     "iopub.status.idle": "2025-03-06T20:50:47.735007Z",
     "shell.execute_reply": "2025-03-06T20:50:47.733892Z",
     "shell.execute_reply.started": "2025-03-06T20:50:16.023277Z"
    },
    "trusted": true
   },
   "outputs": [],
   "source": [
    "%%capture\n",
    "%pip install -U bitsandbytes\n",
    "%pip install transformers==4.44.2\n",
    "%pip install -U accelerate\n",
    "%pip install -U peft\n",
    "%pip install -U trl"
   ]
  },
  {
   "cell_type": "code",
   "execution_count": 27,
   "metadata": {
    "execution": {
     "iopub.execute_input": "2025-03-06T20:50:47.736930Z",
     "iopub.status.busy": "2025-03-06T20:50:47.736606Z",
     "iopub.status.idle": "2025-03-06T20:50:47.946060Z",
     "shell.execute_reply": "2025-03-06T20:50:47.945441Z",
     "shell.execute_reply.started": "2025-03-06T20:50:47.736900Z"
    },
    "trusted": true
   },
   "outputs": [],
   "source": [
    "from huggingface_hub import login\n",
    "from kaggle_secrets import UserSecretsClient\n",
    "user_secrets = UserSecretsClient()\n",
    "\n",
    "hf_token = user_secrets.get_secret(\"HUGGINGFACE_TOKEN\")\n",
    "login(token = hf_token)"
   ]
  },
  {
   "cell_type": "code",
   "execution_count": 28,
   "metadata": {
    "execution": {
     "iopub.execute_input": "2025-03-06T20:50:51.073403Z",
     "iopub.status.busy": "2025-03-06T20:50:51.073069Z",
     "iopub.status.idle": "2025-03-06T20:50:51.077209Z",
     "shell.execute_reply": "2025-03-06T20:50:51.076282Z",
     "shell.execute_reply.started": "2025-03-06T20:50:51.073380Z"
    },
    "trusted": true
   },
   "outputs": [],
   "source": [
    "# Model\n",
    "base_model_url = \"/kaggle/input/llama-3.2/transformers/3b-instruct/1\"\n",
    "# new_model_url = \"/kaggle/input/fine-tune-llama-3-2-on-customer-support/llama-3.2-3b-it-Ecommerce-ChatBot/\"\n",
    "# new_model_url = \"/kaggle/working/fine-tune-llama-3-2-on-customer-support/llama-3.2-3b-it-Ecommerce-ChatBot/\"\n",
    "# new_model_url = \"/kaggle/working/llama-3.2-3b-it-Ecommerce-ChatBot/checkpoint-450/\"\n",
    "new_model_url = \"/kaggle/working/llama-3.2-3b-medieval-arms-and-armor/checkpoint-86/\""
   ]
  },
  {
   "cell_type": "code",
   "execution_count": null,
   "metadata": {},
   "outputs": [],
   "source": [
    "from transformers import AutoModelForCausalLM, AutoTokenizer, BitsAndBytesConfig, pipeline\n",
    "from peft import PeftModel\n",
    "import torch\n",
    "from trl import setup_chat_format\n",
    "# Reload tokenizer and model\n",
    "tokenizer = AutoTokenizer.from_pretrained(base_model_url)\n",
    "\n",
    "base_model_reload= AutoModelForCausalLM.from_pretrained(\n",
    "    base_model_url,\n",
    "    low_cpu_mem_usage=True,\n",
    "    return_dict=True,\n",
    "    torch_dtype=torch.float16,\n",
    "    device_map=\"auto\",\n",
    ")"
   ]
  },
  {
   "cell_type": "code",
   "execution_count": 30,
   "metadata": {
    "execution": {
     "iopub.execute_input": "2025-03-06T20:51:14.441909Z",
     "iopub.status.busy": "2025-03-06T20:51:14.441602Z",
     "iopub.status.idle": "2025-03-06T20:51:14.445724Z",
     "shell.execute_reply": "2025-03-06T20:51:14.444798Z",
     "shell.execute_reply.started": "2025-03-06T20:51:14.441888Z"
    },
    "trusted": true
   },
   "outputs": [],
   "source": [
    "tokenizer.chat_template = None"
   ]
  },
  {
   "cell_type": "code",
   "execution_count": 31,
   "metadata": {
    "execution": {
     "iopub.execute_input": "2025-03-06T20:51:15.689641Z",
     "iopub.status.busy": "2025-03-06T20:51:15.689283Z",
     "iopub.status.idle": "2025-03-06T20:51:17.791839Z",
     "shell.execute_reply": "2025-03-06T20:51:17.790878Z",
     "shell.execute_reply.started": "2025-03-06T20:51:15.689610Z"
    },
    "trusted": true
   },
   "outputs": [],
   "source": [
    "# Merge adapter with base model\n",
    "base_model_reload, tokenizer = setup_chat_format(base_model_reload, tokenizer)\n",
    "model = PeftModel.from_pretrained(base_model_reload, new_model_url)\n",
    "\n",
    "model = model.merge_and_unload()"
   ]
  },
  {
   "cell_type": "code",
   "execution_count": 32,
   "metadata": {
    "execution": {
     "iopub.execute_input": "2025-03-06T20:52:40.463643Z",
     "iopub.status.busy": "2025-03-06T20:52:40.463259Z",
     "iopub.status.idle": "2025-03-06T20:52:47.709727Z",
     "shell.execute_reply": "2025-03-06T20:52:47.708964Z",
     "shell.execute_reply.started": "2025-03-06T20:52:40.463612Z"
    },
    "trusted": true
   },
   "outputs": [
    {
     "name": "stdout",
     "output_type": "stream",
     "text": [
      " and historian, trained in medieval arms and armor. \n",
      "    Be polite to customers and answer all questions.\n",
      "    \n",
      "user\n",
      "Describe the parts of armor.\n",
      "\n"
     ]
    }
   ],
   "source": [
    "# instruction = \"\"\"You are a top-rated customer service agent named John. \n",
    "#     Be polite to customers and answer all their questions.\n",
    "#     \"\"\"\n",
    "instruction = \"\"\"You are a helpful assistant and historian, trained in medieval arms and armor. \n",
    "    Be polite to customers and answer all questions.\n",
    "    \"\"\"\n",
    "\n",
    "messages = [{\"role\": \"system\", \"content\": instruction},\n",
    "    {\"role\": \"user\", \"content\": \"Describe the parts of armor.\"}]\n",
    "\n",
    "prompt = tokenizer.apply_chat_template(messages, tokenize=False, add_generation_prompt=True)\n",
    "    \n",
    "inputs = tokenizer(prompt, return_tensors='pt', padding=True, truncation=True).to(\"cuda\")\n",
    "\n",
    "outputs = model.generate(**inputs, max_new_tokens=150, num_return_sequences=1)\n",
    "\n",
    "text = tokenizer.decode(outputs[0], skip_special_tokens=True)\n",
    "\n",
    "print(text.split(\"assistant\")[1])"
   ]
  },
  {
   "cell_type": "code",
   "execution_count": 33,
   "metadata": {
    "execution": {
     "iopub.execute_input": "2025-03-06T20:54:10.200300Z",
     "iopub.status.busy": "2025-03-06T20:54:10.199978Z",
     "iopub.status.idle": "2025-03-06T20:54:29.529963Z",
     "shell.execute_reply": "2025-03-06T20:54:29.529148Z",
     "shell.execute_reply.started": "2025-03-06T20:54:10.200276Z"
    },
    "trusted": true
   },
   "outputs": [
    {
     "data": {
      "text/plain": [
       "('llama-3.2-3b-medieval-arms-and-armor/tokenizer_config.json',\n",
       " 'llama-3.2-3b-medieval-arms-and-armor/special_tokens_map.json',\n",
       " 'llama-3.2-3b-medieval-arms-and-armor/tokenizer.json')"
      ]
     },
     "execution_count": 33,
     "metadata": {},
     "output_type": "execute_result"
    }
   ],
   "source": [
    "# new_model = \"llama-3.2-3b-it-Ecommerce-ChatBot\"\n",
    "new_model = \"llama-3.2-3b-medieval-arms-and-armor\"\n",
    "\n",
    "model.save_pretrained(new_model)\n",
    "tokenizer.save_pretrained(new_model)"
   ]
  },
  {
   "cell_type": "code",
   "execution_count": 34,
   "metadata": {
    "execution": {
     "iopub.execute_input": "2025-03-06T20:54:29.531396Z",
     "iopub.status.busy": "2025-03-06T20:54:29.531093Z",
     "iopub.status.idle": "2025-03-06T21:00:04.792677Z",
     "shell.execute_reply": "2025-03-06T21:00:04.791562Z",
     "shell.execute_reply.started": "2025-03-06T20:54:29.531371Z"
    },
    "trusted": true
   },
   "outputs": [
    {
     "data": {
      "application/vnd.jupyter.widget-view+json": {
       "model_id": "860aecdcd86b41c095f935b77ef8e3bb",
       "version_major": 2,
       "version_minor": 0
      },
      "text/plain": [
       "README.md:   0%|          | 0.00/5.17k [00:00<?, ?B/s]"
      ]
     },
     "metadata": {},
     "output_type": "display_data"
    },
    {
     "data": {
      "application/vnd.jupyter.widget-view+json": {
       "model_id": "668ae8fc4def4d29847e31bb31beb47a",
       "version_major": 2,
       "version_minor": 0
      },
      "text/plain": [
       "model-00001-of-00002.safetensors:   0%|          | 0.00/4.97G [00:00<?, ?B/s]"
      ]
     },
     "metadata": {},
     "output_type": "display_data"
    },
    {
     "data": {
      "application/vnd.jupyter.widget-view+json": {
       "model_id": "06b46695239b41b690b4519f80cb0b93",
       "version_major": 2,
       "version_minor": 0
      },
      "text/plain": [
       "model-00002-of-00002.safetensors:   0%|          | 0.00/1.46G [00:00<?, ?B/s]"
      ]
     },
     "metadata": {},
     "output_type": "display_data"
    },
    {
     "data": {
      "application/vnd.jupyter.widget-view+json": {
       "model_id": "c139f907543d40bc9bc63fda4cc9d8c4",
       "version_major": 2,
       "version_minor": 0
      },
      "text/plain": [
       "Upload 2 LFS files:   0%|          | 0/2 [00:00<?, ?it/s]"
      ]
     },
     "metadata": {},
     "output_type": "display_data"
    },
    {
     "data": {
      "application/vnd.jupyter.widget-view+json": {
       "model_id": "4401902959b04d29a4a7207e9333eb64",
       "version_major": 2,
       "version_minor": 0
      },
      "text/plain": [
       "tokenizer.json:   0%|          | 0.00/17.2M [00:00<?, ?B/s]"
      ]
     },
     "metadata": {},
     "output_type": "display_data"
    },
    {
     "data": {
      "text/plain": [
       "CommitInfo(commit_url='https://huggingface.co/madks/llama-3.2-3b-medieval-arms-and-armor/commit/8d8df70451685f8239363e7c67151d8f06c363ff', commit_message='Upload tokenizer', commit_description='', oid='8d8df70451685f8239363e7c67151d8f06c363ff', pr_url=None, repo_url=RepoUrl('https://huggingface.co/madks/llama-3.2-3b-medieval-arms-and-armor', endpoint='https://huggingface.co', repo_type='model', repo_id='madks/llama-3.2-3b-medieval-arms-and-armor'), pr_revision=None, pr_num=None)"
      ]
     },
     "execution_count": 34,
     "metadata": {},
     "output_type": "execute_result"
    }
   ],
   "source": [
    "model.push_to_hub(new_model, use_temp_dir=False)\n",
    "tokenizer.push_to_hub(new_model, use_temp_dir=False)"
   ]
  }
 ],
 "metadata": {
  "kaggle": {
   "accelerator": "nvidiaTeslaT4",
   "dataSources": [
    {
     "modelId": 121027,
     "modelInstanceId": 100936,
     "sourceId": 120005,
     "sourceType": "modelInstanceVersion"
    }
   ],
   "dockerImageVersionId": 30919,
   "isGpuEnabled": true,
   "isInternetEnabled": true,
   "language": "python",
   "sourceType": "notebook"
  },
  "kernelspec": {
   "display_name": "torch",
   "language": "python",
   "name": "python3"
  },
  "language_info": {
   "codemirror_mode": {
    "name": "ipython",
    "version": 3
   },
   "file_extension": ".py",
   "mimetype": "text/x-python",
   "name": "python",
   "nbconvert_exporter": "python",
   "pygments_lexer": "ipython3",
   "version": "3.10.16"
  }
 },
 "nbformat": 4,
 "nbformat_minor": 4
}
