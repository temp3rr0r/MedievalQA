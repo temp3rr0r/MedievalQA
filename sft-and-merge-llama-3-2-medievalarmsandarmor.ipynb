{
 "cells": [
  {
   "cell_type": "markdown",
   "metadata": {},
   "source": [
    "# SFT"
   ]
  },
  {
   "cell_type": "code",
   "execution_count": 1,
   "metadata": {
    "_cell_guid": "b1076dfc-b9ad-4769-8c92-a6c4dae69d19",
    "_uuid": "8f2839f25d086af736a60e9eeb907d3b93b6e0e5",
    "execution": {
     "iopub.execute_input": "2025-03-09T20:58:40.843726Z",
     "iopub.status.busy": "2025-03-09T20:58:40.843309Z",
     "iopub.status.idle": "2025-03-09T20:58:41.161263Z",
     "shell.execute_reply": "2025-03-09T20:58:41.160343Z",
     "shell.execute_reply.started": "2025-03-09T20:58:40.843681Z"
    },
    "trusted": true
   },
   "outputs": [
    {
     "name": "stdout",
     "output_type": "stream",
     "text": [
      "/kaggle/input/llama-3.2/transformers/3b-instruct/1/model.safetensors.index.json\n",
      "/kaggle/input/llama-3.2/transformers/3b-instruct/1/config.json\n",
      "/kaggle/input/llama-3.2/transformers/3b-instruct/1/model-00001-of-00002.safetensors\n",
      "/kaggle/input/llama-3.2/transformers/3b-instruct/1/model-00002-of-00002.safetensors\n",
      "/kaggle/input/llama-3.2/transformers/3b-instruct/1/README.md\n",
      "/kaggle/input/llama-3.2/transformers/3b-instruct/1/USE_POLICY.md\n",
      "/kaggle/input/llama-3.2/transformers/3b-instruct/1/tokenizer.json\n",
      "/kaggle/input/llama-3.2/transformers/3b-instruct/1/tokenizer_config.json\n",
      "/kaggle/input/llama-3.2/transformers/3b-instruct/1/LICENSE.txt\n",
      "/kaggle/input/llama-3.2/transformers/3b-instruct/1/special_tokens_map.json\n",
      "/kaggle/input/llama-3.2/transformers/3b-instruct/1/.gitattributes\n",
      "/kaggle/input/llama-3.2/transformers/3b-instruct/1/generation_config.json\n"
     ]
    }
   ],
   "source": [
    "# This Python 3 environment comes with many helpful analytics libraries installed\n",
    "# It is defined by the kaggle/python Docker image: https://github.com/kaggle/docker-python\n",
    "# For example, here's several helpful packages to load\n",
    "\n",
    "import numpy as np # linear algebra\n",
    "import pandas as pd # data processing, CSV file I/O (e.g. pd.read_csv)\n",
    "\n",
    "# Input data files are available in the read-only \"../input/\" directory\n",
    "# For example, running this (by clicking run or pressing Shift+Enter) will list all files under the input directory\n",
    "\n",
    "import os\n",
    "for dirname, _, filenames in os.walk('/kaggle/input'):\n",
    "    for filename in filenames:\n",
    "        print(os.path.join(dirname, filename))\n",
    "\n",
    "# You can write up to 20GB to the current directory (/kaggle/working/) that gets preserved as output when you create a version using \"Save & Run All\" \n",
    "# You can also write temporary files to /kaggle/temp/, but they won't be saved outside of the current session"
   ]
  },
  {
   "cell_type": "code",
   "execution_count": 2,
   "metadata": {
    "execution": {
     "iopub.execute_input": "2025-03-09T20:58:41.162929Z",
     "iopub.status.busy": "2025-03-09T20:58:41.162460Z",
     "iopub.status.idle": "2025-03-09T20:58:42.050927Z",
     "shell.execute_reply": "2025-03-09T20:58:42.050253Z",
     "shell.execute_reply.started": "2025-03-09T20:58:41.162896Z"
    },
    "trusted": true
   },
   "outputs": [],
   "source": [
    "from huggingface_hub import login\n",
    "from kaggle_secrets import UserSecretsClient\n",
    "user_secrets = UserSecretsClient()\n",
    "\n",
    "hf_token = user_secrets.get_secret(\"HUGGINGFACE_TOKEN\")\n",
    "login(token = hf_token)"
   ]
  },
  {
   "cell_type": "code",
   "execution_count": 3,
   "metadata": {
    "execution": {
     "iopub.execute_input": "2025-03-09T20:58:42.052636Z",
     "iopub.status.busy": "2025-03-09T20:58:42.052350Z",
     "iopub.status.idle": "2025-03-09T20:59:32.801021Z",
     "shell.execute_reply": "2025-03-09T20:59:32.799960Z",
     "shell.execute_reply.started": "2025-03-09T20:58:42.052605Z"
    },
    "trusted": true
   },
   "outputs": [],
   "source": [
    "%%capture\n",
    "%pip install -U transformers \n",
    "%pip install -U datasets \n",
    "%pip install -U accelerate \n",
    "%pip install -U peft \n",
    "%pip install -U trl \n",
    "%pip install -U bitsandbytes \n",
    "%pip install -U wandb"
   ]
  },
  {
   "cell_type": "code",
   "execution_count": 4,
   "metadata": {
    "execution": {
     "iopub.execute_input": "2025-03-09T20:59:32.802885Z",
     "iopub.status.busy": "2025-03-09T20:59:32.802568Z",
     "iopub.status.idle": "2025-03-09T20:59:54.369380Z",
     "shell.execute_reply": "2025-03-09T20:59:54.368755Z",
     "shell.execute_reply.started": "2025-03-09T20:59:32.802860Z"
    },
    "trusted": true
   },
   "outputs": [],
   "source": [
    "from transformers import (\n",
    "    AutoModelForCausalLM,\n",
    "    AutoTokenizer,\n",
    "    BitsAndBytesConfig,\n",
    "    HfArgumentParser,\n",
    "    TrainingArguments,\n",
    "    pipeline,\n",
    "    logging,\n",
    ")\n",
    "from peft import (\n",
    "    LoraConfig,\n",
    "    PeftModel,\n",
    "    prepare_model_for_kbit_training,\n",
    "    get_peft_model,\n",
    ")\n",
    "import os, torch, wandb\n",
    "from datasets import load_dataset\n",
    "from trl import SFTTrainer, setup_chat_format"
   ]
  },
  {
   "cell_type": "code",
   "execution_count": null,
   "metadata": {},
   "outputs": [],
   "source": [
    "wb_token = user_secrets.get_secret(\"wandb\")\n",
    "\n",
    "wandb.login(key=wb_token)\n",
    "run = wandb.init(\n",
    "    project='Fine-tune Llama 3.2 on Medieval arms and armor', \n",
    "    job_type=\"training\", \n",
    "    anonymous=\"allow\"\n",
    ")"
   ]
  },
  {
   "cell_type": "code",
   "execution_count": 6,
   "metadata": {
    "execution": {
     "iopub.execute_input": "2025-03-09T21:00:06.574749Z",
     "iopub.status.busy": "2025-03-09T21:00:06.574433Z",
     "iopub.status.idle": "2025-03-09T21:00:06.579184Z",
     "shell.execute_reply": "2025-03-09T21:00:06.578353Z",
     "shell.execute_reply.started": "2025-03-09T21:00:06.574718Z"
    },
    "trusted": true
   },
   "outputs": [],
   "source": [
    "base_model = \"/kaggle/input/llama-3.2/transformers/3b-instruct/1\"\n",
    "new_model = \"llama-3.2-3b-medieval-arms-and-armor\"\n",
    "dataset_name = \"madks/medieval-qa-dataset\""
   ]
  },
  {
   "cell_type": "code",
   "execution_count": 7,
   "metadata": {
    "execution": {
     "iopub.execute_input": "2025-03-09T21:00:06.580378Z",
     "iopub.status.busy": "2025-03-09T21:00:06.580115Z",
     "iopub.status.idle": "2025-03-09T21:00:06.707733Z",
     "shell.execute_reply": "2025-03-09T21:00:06.707085Z",
     "shell.execute_reply.started": "2025-03-09T21:00:06.580348Z"
    },
    "trusted": true
   },
   "outputs": [],
   "source": [
    "# Set torch dtype and attention implementation\n",
    "if torch.cuda.get_device_capability()[0] >= 8:\n",
    "    !pip install -qqq flash-attn\n",
    "    torch_dtype = torch.bfloat16\n",
    "    attn_implementation = \"flash_attention_2\"\n",
    "else:\n",
    "    torch_dtype = torch.float16\n",
    "    attn_implementation = \"eager\""
   ]
  },
  {
   "cell_type": "code",
   "execution_count": 8,
   "metadata": {
    "execution": {
     "iopub.execute_input": "2025-03-09T21:00:06.708675Z",
     "iopub.status.busy": "2025-03-09T21:00:06.708440Z",
     "iopub.status.idle": "2025-03-09T21:00:41.467130Z",
     "shell.execute_reply": "2025-03-09T21:00:41.466481Z",
     "shell.execute_reply.started": "2025-03-09T21:00:06.708656Z"
    },
    "trusted": true
   },
   "outputs": [
    {
     "data": {
      "application/vnd.jupyter.widget-view+json": {
       "model_id": "31352d8dd016475b84a486ec8b39964a",
       "version_major": 2,
       "version_minor": 0
      },
      "text/plain": [
       "Loading checkpoint shards:   0%|          | 0/2 [00:00<?, ?it/s]"
      ]
     },
     "metadata": {},
     "output_type": "display_data"
    }
   ],
   "source": [
    "# QLoRA config\n",
    "bnb_config = BitsAndBytesConfig(\n",
    "    load_in_4bit=True,\n",
    "    bnb_4bit_quant_type=\"nf4\",\n",
    "    bnb_4bit_compute_dtype=torch_dtype,\n",
    "    bnb_4bit_use_double_quant=True,\n",
    ")\n",
    "# Load model\n",
    "model = AutoModelForCausalLM.from_pretrained(\n",
    "    base_model,\n",
    "    quantization_config=bnb_config,\n",
    "    device_map=\"auto\",\n",
    "    attn_implementation=attn_implementation\n",
    ")\n",
    "\n",
    "# Load tokenizer\n",
    "tokenizer = AutoTokenizer.from_pretrained(base_model, trust_remote_code=True)"
   ]
  },
  {
   "cell_type": "code",
   "execution_count": 9,
   "metadata": {
    "execution": {
     "iopub.execute_input": "2025-03-09T21:00:41.470125Z",
     "iopub.status.busy": "2025-03-09T21:00:41.469917Z",
     "iopub.status.idle": "2025-03-09T21:00:41.473994Z",
     "shell.execute_reply": "2025-03-09T21:00:41.473214Z",
     "shell.execute_reply.started": "2025-03-09T21:00:41.470107Z"
    },
    "trusted": true
   },
   "outputs": [],
   "source": [
    "# #Importing the dataset\n",
    "# dataset = load_dataset(dataset_name, split=\"train\")\n",
    "# samples_count = len(dataset) -1\n",
    "# dataset = dataset.shuffle(seed=65).select(range(samples_count)) # Only use 1000 samples for quick demo\n",
    "# instruction = \"\"\"You are a helpful assistant and historian, trained in medieval arms and armor. \n",
    "#     Be polite to customers and answer all questions.\n",
    "#     \"\"\"\n",
    "# def format_chat_template(row):\n",
    "    \n",
    "#     row_json = [{\"role\": \"system\", \"content\": instruction },\n",
    "#                {\"role\": \"user\", \"content\": row[\"instruction\"]},\n",
    "#                {\"role\": \"assistant\", \"content\": row[\"response\"]}]\n",
    "    \n",
    "#     row[\"text\"] = tokenizer.apply_chat_template(row_json, tokenize=False)\n",
    "#     return row\n",
    "\n",
    "# dataset = dataset.map(\n",
    "#     format_chat_template,\n",
    "#     num_proc= 4,\n",
    "# )\n",
    "\n",
    "# # Create train/test splits\n",
    "# # If the dataset comes as a single 'train' split or just a DatasetDict without splits\n",
    "# if 'train' in dataset and not 'test' in dataset:\n",
    "#     # Split the existing train set\n",
    "#     splits = dataset['train'].train_test_split(test_size=0.1, seed=42)\n",
    "#     dataset = splits  # This now contains 'train' and 'test' splits\n",
    "# else:\n",
    "#     # If it's just a Dataset object, split it directly\n",
    "#     splits = dataset.train_test_split(test_size=0.1, seed=42)\n",
    "#     dataset = splits  # This now contains 'train' and 'test' splits"
   ]
  },
  {
   "cell_type": "code",
   "execution_count": 10,
   "metadata": {
    "execution": {
     "iopub.execute_input": "2025-03-09T21:00:41.475716Z",
     "iopub.status.busy": "2025-03-09T21:00:41.475483Z",
     "iopub.status.idle": "2025-03-09T21:00:41.490378Z",
     "shell.execute_reply": "2025-03-09T21:00:41.489561Z",
     "shell.execute_reply.started": "2025-03-09T21:00:41.475698Z"
    },
    "trusted": true
   },
   "outputs": [],
   "source": [
    "# #Importing the dataset\n",
    "# dataset = load_dataset(dataset_name, split=\"train\")\n",
    "# samples_count = len(dataset)\n",
    "# dataset = dataset.shuffle(seed=65).select(range(samples_count)) # Only use 1000 samples for quick demo\n",
    "# instruction = \"\"\"You are a helpful assistant and historian, trained in medieval arms and armor. \n",
    "#     Be polite to customers and answer all questions.\n",
    "#     \"\"\"\n",
    "# def format_chat_template(row):\n",
    "#     # Create a prompt that includes the context and question\n",
    "#     user_content = f\"Context: {row['context']}\\nQuestion: {row['question']}\"\n",
    "    \n",
    "#     row_json = [\n",
    "#         {\"role\": \"system\", \"content\": instruction},\n",
    "#         {\"role\": \"user\", \"content\": user_content},\n",
    "#         {\"role\": \"assistant\", \"content\": row[\"answers\"]}\n",
    "#     ]\n",
    "    \n",
    "#     row[\"text\"] = tokenizer.apply_chat_template(row_json, tokenize=False)\n",
    "#     return row\n",
    "\n",
    "# dataset = dataset.map(\n",
    "#     format_chat_template,\n",
    "#     num_proc= 4,\n",
    "# )\n",
    "\n",
    "# # Create train/test splits\n",
    "# # If the dataset comes as a single 'train' split or just a DatasetDict without splits\n",
    "# if 'train' in dataset and not 'test' in dataset:\n",
    "#     # Split the existing train set\n",
    "#     splits = dataset['train'].train_test_split(test_size=0.1, seed=42)\n",
    "#     dataset = splits  # This now contains 'train' and 'test' splits\n",
    "# else:\n",
    "#     # If it's just a Dataset object, split it directly\n",
    "#     splits = dataset.train_test_split(test_size=0.1, seed=42)\n",
    "#     dataset = splits  # This now contains 'train' and 'test' splits"
   ]
  },
  {
   "cell_type": "code",
   "execution_count": 11,
   "metadata": {
    "execution": {
     "iopub.execute_input": "2025-03-09T21:00:41.491660Z",
     "iopub.status.busy": "2025-03-09T21:00:41.491290Z",
     "iopub.status.idle": "2025-03-09T21:00:45.049734Z",
     "shell.execute_reply": "2025-03-09T21:00:45.048481Z",
     "shell.execute_reply.started": "2025-03-09T21:00:41.491630Z"
    },
    "trusted": true
   },
   "outputs": [
    {
     "data": {
      "application/vnd.jupyter.widget-view+json": {
       "model_id": "17a0f678797a4246941bcaf6bd5c1f01",
       "version_major": 2,
       "version_minor": 0
      },
      "text/plain": [
       "README.md:   0%|          | 0.00/343 [00:00<?, ?B/s]"
      ]
     },
     "metadata": {},
     "output_type": "display_data"
    },
    {
     "data": {
      "application/vnd.jupyter.widget-view+json": {
       "model_id": "33d21425b780450da6a29a0bd122e16b",
       "version_major": 2,
       "version_minor": 0
      },
      "text/plain": [
       "train-00000-of-00001.parquet:   0%|          | 0.00/14.8k [00:00<?, ?B/s]"
      ]
     },
     "metadata": {},
     "output_type": "display_data"
    },
    {
     "data": {
      "application/vnd.jupyter.widget-view+json": {
       "model_id": "ccf7db40b0684ae98dd41c2e31b71a65",
       "version_major": 2,
       "version_minor": 0
      },
      "text/plain": [
       "Generating train split:   0%|          | 0/135 [00:00<?, ? examples/s]"
      ]
     },
     "metadata": {},
     "output_type": "display_data"
    },
    {
     "data": {
      "application/vnd.jupyter.widget-view+json": {
       "model_id": "b5ed06ea412a4869b8ca5ea24f0ee0d7",
       "version_major": 2,
       "version_minor": 0
      },
      "text/plain": [
       "Map (num_proc=4):   0%|          | 0/135 [00:00<?, ? examples/s]"
      ]
     },
     "metadata": {},
     "output_type": "display_data"
    }
   ],
   "source": [
    "#Importing the dataset\n",
    "dataset = load_dataset(dataset_name, split=\"train\")\n",
    "samples_count = len(dataset)\n",
    "dataset = dataset.shuffle(seed=42).select(range(samples_count)) # Only use 1000 samples for quick demo\n",
    "instruction = \"You are a helpful historian, trained in medieval arms and armor. Be polite and answer all questions.\"\n",
    "def format_chat_template(row):\n",
    "    # Create a prompt that includes the context and question\n",
    "    # user_content = f\"Context: {row['context']}\\nQuestion: {row['question']}\"\n",
    "\n",
    "    user_content = \"\"\n",
    "    if len(row['context']) > 0:\n",
    "        user_content = f\"Context: {row['context']}. \"    \n",
    "    user_content += f\"Question: {row['question']}\"\n",
    "    \n",
    "    row_json = [\n",
    "        {\"role\": \"system\", \"content\": instruction},\n",
    "        {\"role\": \"user\", \"content\": user_content},\n",
    "        # {\"role\": \"assistant\", \"content\": row[\"answers\"]} # TODO: only the first answer\n",
    "        {\"role\": \"assistant\", \"content\": row[\"answers\"]}\n",
    "    ]\n",
    "    \n",
    "    row[\"text\"] = tokenizer.apply_chat_template(row_json, tokenize=False)\n",
    "    return row\n",
    "\n",
    "dataset = dataset.map(\n",
    "    format_chat_template,\n",
    "    num_proc= 4,\n",
    ")\n",
    "\n",
    "# Create train/test splits\n",
    "# If the dataset comes as a single 'train' split or just a DatasetDict without splits\n",
    "if 'train' in dataset and not 'test' in dataset:\n",
    "    # Split the existing train set\n",
    "    splits = dataset['train'].train_test_split(test_size=0.1, seed=42)\n",
    "    dataset = splits  # This now contains 'train' and 'test' splits\n",
    "else:\n",
    "    # If it's just a Dataset object, split it directly\n",
    "    splits = dataset.train_test_split(test_size=0.1, seed=42)\n",
    "    dataset = splits  # This now contains 'train' and 'test' splits"
   ]
  },
  {
   "cell_type": "code",
   "execution_count": 12,
   "metadata": {
    "execution": {
     "iopub.execute_input": "2025-03-09T21:00:45.051562Z",
     "iopub.status.busy": "2025-03-09T21:00:45.051157Z",
     "iopub.status.idle": "2025-03-09T21:00:45.059642Z",
     "shell.execute_reply": "2025-03-09T21:00:45.058675Z",
     "shell.execute_reply.started": "2025-03-09T21:00:45.051521Z"
    },
    "trusted": true
   },
   "outputs": [
    {
     "data": {
      "text/plain": [
       "DatasetDict({\n",
       "    train: Dataset({\n",
       "        features: ['question', 'context', 'answers', 'text'],\n",
       "        num_rows: 121\n",
       "    })\n",
       "    test: Dataset({\n",
       "        features: ['question', 'context', 'answers', 'text'],\n",
       "        num_rows: 14\n",
       "    })\n",
       "})"
      ]
     },
     "execution_count": 12,
     "metadata": {},
     "output_type": "execute_result"
    }
   ],
   "source": [
    "dataset"
   ]
  },
  {
   "cell_type": "code",
   "execution_count": 13,
   "metadata": {
    "execution": {
     "iopub.execute_input": "2025-03-09T21:00:45.060980Z",
     "iopub.status.busy": "2025-03-09T21:00:45.060706Z",
     "iopub.status.idle": "2025-03-09T21:00:45.077584Z",
     "shell.execute_reply": "2025-03-09T21:00:45.076782Z",
     "shell.execute_reply.started": "2025-03-09T21:00:45.060948Z"
    },
    "trusted": true
   },
   "outputs": [
    {
     "data": {
      "text/plain": [
       "'The Angon was a barbed spear.'"
      ]
     },
     "execution_count": 13,
     "metadata": {},
     "output_type": "execute_result"
    }
   ],
   "source": [
    "dataset[\"train\"][5][\"answers\"]"
   ]
  },
  {
   "cell_type": "code",
   "execution_count": 14,
   "metadata": {
    "execution": {
     "iopub.execute_input": "2025-03-09T21:00:45.078718Z",
     "iopub.status.busy": "2025-03-09T21:00:45.078418Z",
     "iopub.status.idle": "2025-03-09T21:00:45.089585Z",
     "shell.execute_reply": "2025-03-09T21:00:45.088779Z",
     "shell.execute_reply.started": "2025-03-09T21:00:45.078693Z"
    },
    "trusted": true
   },
   "outputs": [],
   "source": [
    "import bitsandbytes as bnb\n",
    "\n",
    "def find_all_linear_names(model):\n",
    "    cls = bnb.nn.Linear4bit\n",
    "    lora_module_names = set()\n",
    "    for name, module in model.named_modules():\n",
    "        if isinstance(module, cls):\n",
    "            names = name.split('.')\n",
    "            lora_module_names.add(names[0] if len(names) == 1 else names[-1])\n",
    "    if 'lm_head' in lora_module_names:  # needed for 16 bit\n",
    "        lora_module_names.remove('lm_head')\n",
    "    return list(lora_module_names)\n",
    "\n",
    "modules = find_all_linear_names(model)"
   ]
  },
  {
   "cell_type": "code",
   "execution_count": 15,
   "metadata": {
    "execution": {
     "iopub.execute_input": "2025-03-09T21:00:45.090711Z",
     "iopub.status.busy": "2025-03-09T21:00:45.090426Z",
     "iopub.status.idle": "2025-03-09T21:00:45.104689Z",
     "shell.execute_reply": "2025-03-09T21:00:45.103933Z",
     "shell.execute_reply.started": "2025-03-09T21:00:45.090686Z"
    },
    "trusted": true
   },
   "outputs": [],
   "source": [
    "tokenizer.chat_template = None"
   ]
  },
  {
   "cell_type": "code",
   "execution_count": 16,
   "metadata": {
    "execution": {
     "iopub.execute_input": "2025-03-09T21:00:45.105816Z",
     "iopub.status.busy": "2025-03-09T21:00:45.105555Z",
     "iopub.status.idle": "2025-03-09T21:00:46.863518Z",
     "shell.execute_reply": "2025-03-09T21:00:46.862845Z",
     "shell.execute_reply.started": "2025-03-09T21:00:45.105793Z"
    },
    "trusted": true
   },
   "outputs": [
    {
     "name": "stderr",
     "output_type": "stream",
     "text": [
      "The new embeddings will be initialized from a multivariate normal distribution that has old embeddings' mean and covariance. As described in this article: https://nlp.stanford.edu/~johnhew/vocab-expansion.html. To disable this, use `mean_resizing=False`\n"
     ]
    }
   ],
   "source": [
    "# LoRA config\n",
    "peft_config = LoraConfig(\n",
    "    r=16,\n",
    "    lora_alpha=32,\n",
    "    lora_dropout=0.05,\n",
    "    bias=\"none\",\n",
    "    task_type=\"CAUSAL_LM\",\n",
    "    target_modules=modules\n",
    ")\n",
    "model, tokenizer = setup_chat_format(model, tokenizer)\n",
    "model = get_peft_model(model, peft_config)"
   ]
  },
  {
   "cell_type": "code",
   "execution_count": 17,
   "metadata": {
    "execution": {
     "iopub.execute_input": "2025-03-09T21:00:46.864574Z",
     "iopub.status.busy": "2025-03-09T21:00:46.864305Z",
     "iopub.status.idle": "2025-03-09T21:00:46.899859Z",
     "shell.execute_reply": "2025-03-09T21:00:46.899211Z",
     "shell.execute_reply.started": "2025-03-09T21:00:46.864553Z"
    },
    "trusted": true
   },
   "outputs": [],
   "source": [
    "#Hyperparamter\n",
    "training_arguments = TrainingArguments(\n",
    "    output_dir=new_model,\n",
    "    per_device_train_batch_size=1,\n",
    "    per_device_eval_batch_size=1,\n",
    "    gradient_accumulation_steps=2,\n",
    "    optim=\"paged_adamw_32bit\",\n",
    "    # num_train_epochs=1,\n",
    "    num_train_epochs=10,\n",
    "    eval_strategy=\"steps\",\n",
    "    eval_steps=0.2,\n",
    "    logging_steps=1,\n",
    "    warmup_steps=10,\n",
    "    logging_strategy=\"steps\",\n",
    "    learning_rate=2e-4,\n",
    "    fp16=False,\n",
    "    bf16=False,\n",
    "    group_by_length=True,\n",
    "    report_to=\"wandb\"\n",
    ")"
   ]
  },
  {
   "cell_type": "code",
   "execution_count": 18,
   "metadata": {
    "execution": {
     "iopub.execute_input": "2025-03-09T21:00:46.900763Z",
     "iopub.status.busy": "2025-03-09T21:00:46.900559Z",
     "iopub.status.idle": "2025-03-09T21:00:47.813966Z",
     "shell.execute_reply": "2025-03-09T21:00:47.813342Z",
     "shell.execute_reply.started": "2025-03-09T21:00:46.900745Z"
    },
    "trusted": true
   },
   "outputs": [
    {
     "name": "stderr",
     "output_type": "stream",
     "text": [
      "<ipython-input-18-1ccaab4b6efb>:1: FutureWarning: `tokenizer` is deprecated and removed starting from version 0.16.0 for `SFTTrainer.__init__`. Use `processing_class` instead.\n",
      "  trainer = SFTTrainer(\n"
     ]
    },
    {
     "data": {
      "application/vnd.jupyter.widget-view+json": {
       "model_id": "9f66a9d64376475796fa8a76d132055b",
       "version_major": 2,
       "version_minor": 0
      },
      "text/plain": [
       "Converting train dataset to ChatML:   0%|          | 0/121 [00:00<?, ? examples/s]"
      ]
     },
     "metadata": {},
     "output_type": "display_data"
    },
    {
     "data": {
      "application/vnd.jupyter.widget-view+json": {
       "model_id": "e19013d97f3142adb6d4b73772e300e2",
       "version_major": 2,
       "version_minor": 0
      },
      "text/plain": [
       "Applying chat template to train dataset:   0%|          | 0/121 [00:00<?, ? examples/s]"
      ]
     },
     "metadata": {},
     "output_type": "display_data"
    },
    {
     "data": {
      "application/vnd.jupyter.widget-view+json": {
       "model_id": "3c79896897384c2592c654f6bc2b5e5a",
       "version_major": 2,
       "version_minor": 0
      },
      "text/plain": [
       "Tokenizing train dataset:   0%|          | 0/121 [00:00<?, ? examples/s]"
      ]
     },
     "metadata": {},
     "output_type": "display_data"
    },
    {
     "data": {
      "application/vnd.jupyter.widget-view+json": {
       "model_id": "c6655b9d01984a2bbbeeac2810d02003",
       "version_major": 2,
       "version_minor": 0
      },
      "text/plain": [
       "Truncating train dataset:   0%|          | 0/121 [00:00<?, ? examples/s]"
      ]
     },
     "metadata": {},
     "output_type": "display_data"
    },
    {
     "data": {
      "application/vnd.jupyter.widget-view+json": {
       "model_id": "590094a6f5c446419da984f5c1641868",
       "version_major": 2,
       "version_minor": 0
      },
      "text/plain": [
       "Converting eval dataset to ChatML:   0%|          | 0/14 [00:00<?, ? examples/s]"
      ]
     },
     "metadata": {},
     "output_type": "display_data"
    },
    {
     "data": {
      "application/vnd.jupyter.widget-view+json": {
       "model_id": "73b283256eae45869799d3afc46f409b",
       "version_major": 2,
       "version_minor": 0
      },
      "text/plain": [
       "Applying chat template to eval dataset:   0%|          | 0/14 [00:00<?, ? examples/s]"
      ]
     },
     "metadata": {},
     "output_type": "display_data"
    },
    {
     "data": {
      "application/vnd.jupyter.widget-view+json": {
       "model_id": "f8894d7f002f437a87e62275eb28932f",
       "version_major": 2,
       "version_minor": 0
      },
      "text/plain": [
       "Tokenizing eval dataset:   0%|          | 0/14 [00:00<?, ? examples/s]"
      ]
     },
     "metadata": {},
     "output_type": "display_data"
    },
    {
     "data": {
      "application/vnd.jupyter.widget-view+json": {
       "model_id": "1156cff2fbad4c2ba15acf45bc60b0b5",
       "version_major": 2,
       "version_minor": 0
      },
      "text/plain": [
       "Truncating eval dataset:   0%|          | 0/14 [00:00<?, ? examples/s]"
      ]
     },
     "metadata": {},
     "output_type": "display_data"
    },
    {
     "name": "stderr",
     "output_type": "stream",
     "text": [
      "No label_names provided for model class `PeftModelForCausalLM`. Since `PeftModel` hides base models input arguments, if label_names is not given, label_names can't be set automatically within `Trainer`. Note that empty label_names list will be used instead.\n"
     ]
    }
   ],
   "source": [
    "trainer = SFTTrainer(\n",
    "    model=model,\n",
    "    train_dataset=dataset[\"train\"],\n",
    "    eval_dataset=dataset[\"test\"],\n",
    "    peft_config=peft_config,\n",
    "    # max_seq_length=None,  # Remove this parameter entirely\n",
    "    # dataset_text_field=\"text\",\n",
    "    tokenizer=tokenizer,  # This is still used but deprecated in 0.15.2\n",
    "    args=training_arguments,\n",
    "    # packing=False,\n",
    ")"
   ]
  },
  {
   "cell_type": "code",
   "execution_count": 19,
   "metadata": {
    "execution": {
     "iopub.execute_input": "2025-03-09T21:00:47.814909Z",
     "iopub.status.busy": "2025-03-09T21:00:47.814703Z",
     "iopub.status.idle": "2025-03-09T21:07:52.887677Z",
     "shell.execute_reply": "2025-03-09T21:07:52.886844Z",
     "shell.execute_reply.started": "2025-03-09T21:00:47.814885Z"
    },
    "trusted": true
   },
   "outputs": [
    {
     "name": "stderr",
     "output_type": "stream",
     "text": [
      "\u001b[34m\u001b[1mwandb\u001b[0m: \u001b[33mWARNING\u001b[0m The `run_name` is currently set to the same value as `TrainingArguments.output_dir`. If this was not intended, please specify a different run name by setting the `TrainingArguments.run_name` parameter.\n"
     ]
    },
    {
     "data": {
      "text/html": [
       "\n",
       "    <div>\n",
       "      \n",
       "      <progress value='600' max='600' style='width:300px; height:20px; vertical-align: middle;'></progress>\n",
       "      [600/600 07:03, Epoch 9/10]\n",
       "    </div>\n",
       "    <table border=\"1\" class=\"dataframe\">\n",
       "  <thead>\n",
       " <tr style=\"text-align: left;\">\n",
       "      <th>Step</th>\n",
       "      <th>Training Loss</th>\n",
       "      <th>Validation Loss</th>\n",
       "    </tr>\n",
       "  </thead>\n",
       "  <tbody>\n",
       "    <tr>\n",
       "      <td>120</td>\n",
       "      <td>0.177600</td>\n",
       "      <td>0.837598</td>\n",
       "    </tr>\n",
       "    <tr>\n",
       "      <td>240</td>\n",
       "      <td>0.191200</td>\n",
       "      <td>1.072992</td>\n",
       "    </tr>\n",
       "    <tr>\n",
       "      <td>360</td>\n",
       "      <td>0.111500</td>\n",
       "      <td>1.121967</td>\n",
       "    </tr>\n",
       "    <tr>\n",
       "      <td>480</td>\n",
       "      <td>0.080800</td>\n",
       "      <td>1.235874</td>\n",
       "    </tr>\n",
       "    <tr>\n",
       "      <td>600</td>\n",
       "      <td>0.074400</td>\n",
       "      <td>1.289600</td>\n",
       "    </tr>\n",
       "  </tbody>\n",
       "</table><p>"
      ],
      "text/plain": [
       "<IPython.core.display.HTML object>"
      ]
     },
     "metadata": {},
     "output_type": "display_data"
    },
    {
     "name": "stderr",
     "output_type": "stream",
     "text": [
      "Trainer.tokenizer is now deprecated. You should use Trainer.processing_class instead.\n",
      "Trainer.tokenizer is now deprecated. You should use Trainer.processing_class instead.\n",
      "Trainer.tokenizer is now deprecated. You should use Trainer.processing_class instead.\n",
      "Trainer.tokenizer is now deprecated. You should use Trainer.processing_class instead.\n",
      "Trainer.tokenizer is now deprecated. You should use Trainer.processing_class instead.\n",
      "Trainer.tokenizer is now deprecated. You should use Trainer.processing_class instead.\n",
      "Trainer.tokenizer is now deprecated. You should use Trainer.processing_class instead.\n",
      "Trainer.tokenizer is now deprecated. You should use Trainer.processing_class instead.\n",
      "/usr/local/lib/python3.10/dist-packages/peft/utils/save_and_load.py:260: UserWarning: Setting `save_embedding_layers` to `True` as the embedding layer has been resized during finetuning.\n",
      "  warnings.warn(\n",
      "Trainer.tokenizer is now deprecated. You should use Trainer.processing_class instead.\n",
      "Trainer.tokenizer is now deprecated. You should use Trainer.processing_class instead.\n",
      "/usr/local/lib/python3.10/dist-packages/peft/utils/save_and_load.py:260: UserWarning: Setting `save_embedding_layers` to `True` as the embedding layer has been resized during finetuning.\n",
      "  warnings.warn(\n"
     ]
    },
    {
     "data": {
      "text/plain": [
       "TrainOutput(global_step=600, training_loss=0.3043339637791117, metrics={'train_runtime': 424.5691, 'train_samples_per_second': 2.85, 'train_steps_per_second': 1.413, 'total_flos': 1481382749392896.0, 'train_loss': 0.3043339637791117})"
      ]
     },
     "execution_count": 19,
     "metadata": {},
     "output_type": "execute_result"
    }
   ],
   "source": [
    "trainer.train()"
   ]
  },
  {
   "cell_type": "code",
   "execution_count": null,
   "metadata": {},
   "outputs": [],
   "source": [
    "wandb.finish()\n"
   ]
  },
  {
   "cell_type": "code",
   "execution_count": 21,
   "metadata": {
    "execution": {
     "iopub.execute_input": "2025-03-09T21:07:53.373291Z",
     "iopub.status.busy": "2025-03-09T21:07:53.373076Z",
     "iopub.status.idle": "2025-03-09T21:08:11.362542Z",
     "shell.execute_reply": "2025-03-09T21:08:11.361745Z",
     "shell.execute_reply.started": "2025-03-09T21:07:53.373272Z"
    },
    "trusted": true
   },
   "outputs": [
    {
     "name": "stdout",
     "output_type": "stream",
     "text": [
      "\n",
      "Pauldrons and Sollerets.system\n"
     ]
    }
   ],
   "source": [
    "messages = [{\"role\": \"system\", \"content\": instruction},\n",
    "    {\"role\": \"user\", \"content\": \"Describe the parts of armor.\"}]\n",
    "\n",
    "prompt = tokenizer.apply_chat_template(messages, tokenize=False, add_generation_prompt=True)\n",
    "    \n",
    "inputs = tokenizer(prompt, return_tensors='pt', padding=True, truncation=True).to(\"cuda\")\n",
    "\n",
    "outputs = model.generate(**inputs, max_new_tokens=150, num_return_sequences=1)\n",
    "\n",
    "text = tokenizer.decode(outputs[0], skip_special_tokens=True)\n",
    "\n",
    "print(text.split(\"assistant\")[1])"
   ]
  },
  {
   "cell_type": "code",
   "execution_count": 22,
   "metadata": {
    "execution": {
     "iopub.execute_input": "2025-03-09T21:08:11.363903Z",
     "iopub.status.busy": "2025-03-09T21:08:11.363558Z",
     "iopub.status.idle": "2025-03-09T21:09:08.158342Z",
     "shell.execute_reply": "2025-03-09T21:09:08.157490Z",
     "shell.execute_reply.started": "2025-03-09T21:08:11.363866Z"
    },
    "trusted": true
   },
   "outputs": [
    {
     "name": "stderr",
     "output_type": "stream",
     "text": [
      "/usr/local/lib/python3.10/dist-packages/peft/utils/save_and_load.py:260: UserWarning: Setting `save_embedding_layers` to `True` as the embedding layer has been resized during finetuning.\n",
      "  warnings.warn(\n"
     ]
    },
    {
     "data": {
      "application/vnd.jupyter.widget-view+json": {
       "model_id": "9ccac311757342e7a635f9e88c6b8f47",
       "version_major": 2,
       "version_minor": 0
      },
      "text/plain": [
       "README.md:   0%|          | 0.00/5.17k [00:00<?, ?B/s]"
      ]
     },
     "metadata": {},
     "output_type": "display_data"
    },
    {
     "data": {
      "application/vnd.jupyter.widget-view+json": {
       "model_id": "c45f7bf5aee449fe962ec7fa64747a5e",
       "version_major": 2,
       "version_minor": 0
      },
      "text/plain": [
       "adapter_model.safetensors:   0%|          | 0.00/1.67G [00:00<?, ?B/s]"
      ]
     },
     "metadata": {},
     "output_type": "display_data"
    },
    {
     "data": {
      "text/plain": [
       "CommitInfo(commit_url='https://huggingface.co/madks/llama-3.2-3b-medieval-arms-and-armor/commit/94df3db4a6105d471c1bc308e6c3ec33d43c5632', commit_message='Upload model', commit_description='', oid='94df3db4a6105d471c1bc308e6c3ec33d43c5632', pr_url=None, repo_url=RepoUrl('https://huggingface.co/madks/llama-3.2-3b-medieval-arms-and-armor', endpoint='https://huggingface.co', repo_type='model', repo_id='madks/llama-3.2-3b-medieval-arms-and-armor'), pr_revision=None, pr_num=None)"
      ]
     },
     "execution_count": 22,
     "metadata": {},
     "output_type": "execute_result"
    }
   ],
   "source": [
    "# Save the fine-tuned model\n",
    "trainer.model.save_pretrained(new_model)\n",
    "trainer.model.push_to_hub(new_model, use_temp_dir=False)"
   ]
  },
  {
   "cell_type": "code",
   "execution_count": 23,
   "metadata": {
    "execution": {
     "iopub.execute_input": "2025-03-09T21:09:08.159731Z",
     "iopub.status.busy": "2025-03-09T21:09:08.159389Z",
     "iopub.status.idle": "2025-03-09T21:09:08.175258Z",
     "shell.execute_reply": "2025-03-09T21:09:08.174123Z",
     "shell.execute_reply.started": "2025-03-09T21:09:08.159699Z"
    },
    "trusted": true
   },
   "outputs": [
    {
     "name": "stdout",
     "output_type": "stream",
     "text": [
      "/kaggle/lib/kaggle/gcp.py\n",
      "/kaggle/input/llama-3.2/transformers/3b-instruct/1/model.safetensors.index.json\n",
      "/kaggle/input/llama-3.2/transformers/3b-instruct/1/config.json\n",
      "/kaggle/input/llama-3.2/transformers/3b-instruct/1/model-00001-of-00002.safetensors\n",
      "/kaggle/input/llama-3.2/transformers/3b-instruct/1/model-00002-of-00002.safetensors\n",
      "/kaggle/input/llama-3.2/transformers/3b-instruct/1/README.md\n",
      "/kaggle/input/llama-3.2/transformers/3b-instruct/1/USE_POLICY.md\n",
      "/kaggle/input/llama-3.2/transformers/3b-instruct/1/tokenizer.json\n",
      "/kaggle/input/llama-3.2/transformers/3b-instruct/1/tokenizer_config.json\n",
      "/kaggle/input/llama-3.2/transformers/3b-instruct/1/LICENSE.txt\n",
      "/kaggle/input/llama-3.2/transformers/3b-instruct/1/special_tokens_map.json\n",
      "/kaggle/input/llama-3.2/transformers/3b-instruct/1/.gitattributes\n",
      "/kaggle/input/llama-3.2/transformers/3b-instruct/1/generation_config.json\n",
      "/kaggle/working/llama-3.2-3b-medieval-arms-and-armor/adapter_model.safetensors\n",
      "/kaggle/working/llama-3.2-3b-medieval-arms-and-armor/adapter_config.json\n",
      "/kaggle/working/llama-3.2-3b-medieval-arms-and-armor/README.md\n",
      "/kaggle/working/llama-3.2-3b-medieval-arms-and-armor/checkpoint-500/special_tokens_map.json\n",
      "/kaggle/working/llama-3.2-3b-medieval-arms-and-armor/checkpoint-500/rng_state.pth\n",
      "/kaggle/working/llama-3.2-3b-medieval-arms-and-armor/checkpoint-500/tokenizer_config.json\n",
      "/kaggle/working/llama-3.2-3b-medieval-arms-and-armor/checkpoint-500/adapter_model.safetensors\n",
      "/kaggle/working/llama-3.2-3b-medieval-arms-and-armor/checkpoint-500/adapter_config.json\n",
      "/kaggle/working/llama-3.2-3b-medieval-arms-and-armor/checkpoint-500/tokenizer.json\n",
      "/kaggle/working/llama-3.2-3b-medieval-arms-and-armor/checkpoint-500/training_args.bin\n",
      "/kaggle/working/llama-3.2-3b-medieval-arms-and-armor/checkpoint-500/trainer_state.json\n",
      "/kaggle/working/llama-3.2-3b-medieval-arms-and-armor/checkpoint-500/optimizer.pt\n",
      "/kaggle/working/llama-3.2-3b-medieval-arms-and-armor/checkpoint-500/README.md\n",
      "/kaggle/working/llama-3.2-3b-medieval-arms-and-armor/checkpoint-500/scheduler.pt\n",
      "/kaggle/working/llama-3.2-3b-medieval-arms-and-armor/checkpoint-600/special_tokens_map.json\n",
      "/kaggle/working/llama-3.2-3b-medieval-arms-and-armor/checkpoint-600/rng_state.pth\n",
      "/kaggle/working/llama-3.2-3b-medieval-arms-and-armor/checkpoint-600/tokenizer_config.json\n",
      "/kaggle/working/llama-3.2-3b-medieval-arms-and-armor/checkpoint-600/adapter_model.safetensors\n",
      "/kaggle/working/llama-3.2-3b-medieval-arms-and-armor/checkpoint-600/adapter_config.json\n",
      "/kaggle/working/llama-3.2-3b-medieval-arms-and-armor/checkpoint-600/tokenizer.json\n",
      "/kaggle/working/llama-3.2-3b-medieval-arms-and-armor/checkpoint-600/training_args.bin\n",
      "/kaggle/working/llama-3.2-3b-medieval-arms-and-armor/checkpoint-600/trainer_state.json\n",
      "/kaggle/working/llama-3.2-3b-medieval-arms-and-armor/checkpoint-600/optimizer.pt\n",
      "/kaggle/working/llama-3.2-3b-medieval-arms-and-armor/checkpoint-600/README.md\n",
      "/kaggle/working/llama-3.2-3b-medieval-arms-and-armor/checkpoint-600/scheduler.pt\n",
      "/kaggle/working/wandb/debug-internal.log\n",
      "/kaggle/working/wandb/debug.log\n",
      "/kaggle/working/wandb/run-20250309_210000-ak3o9fgg/run-ak3o9fgg.wandb\n",
      "/kaggle/working/wandb/run-20250309_210000-ak3o9fgg/files/wandb-metadata.json\n",
      "/kaggle/working/wandb/run-20250309_210000-ak3o9fgg/files/wandb-summary.json\n",
      "/kaggle/working/wandb/run-20250309_210000-ak3o9fgg/files/output.log\n",
      "/kaggle/working/wandb/run-20250309_210000-ak3o9fgg/files/requirements.txt\n",
      "/kaggle/working/wandb/run-20250309_210000-ak3o9fgg/files/config.yaml\n",
      "/kaggle/working/wandb/run-20250309_210000-ak3o9fgg/logs/debug-internal.log\n",
      "/kaggle/working/wandb/run-20250309_210000-ak3o9fgg/logs/debug-core.log\n",
      "/kaggle/working/wandb/run-20250309_210000-ak3o9fgg/logs/debug.log\n"
     ]
    }
   ],
   "source": [
    "for dirname, _, filenames in os.walk('/kaggle/'):\n",
    "    for filename in filenames:\n",
    "        print(os.path.join(dirname, filename))"
   ]
  },
  {
   "cell_type": "markdown",
   "metadata": {},
   "source": [
    "# Merge finetune"
   ]
  },
  {
   "cell_type": "code",
   "execution_count": 24,
   "metadata": {
    "execution": {
     "iopub.execute_input": "2025-03-09T21:09:08.176490Z",
     "iopub.status.busy": "2025-03-09T21:09:08.176210Z",
     "iopub.status.idle": "2025-03-09T21:09:39.632925Z",
     "shell.execute_reply": "2025-03-09T21:09:39.631703Z",
     "shell.execute_reply.started": "2025-03-09T21:09:08.176471Z"
    },
    "trusted": true
   },
   "outputs": [],
   "source": [
    "%%capture\n",
    "%pip install -U bitsandbytes\n",
    "%pip install transformers==4.44.2\n",
    "%pip install -U accelerate\n",
    "%pip install -U peft\n",
    "%pip install -U trl"
   ]
  },
  {
   "cell_type": "code",
   "execution_count": 25,
   "metadata": {
    "execution": {
     "iopub.execute_input": "2025-03-09T21:09:39.634372Z",
     "iopub.status.busy": "2025-03-09T21:09:39.634113Z",
     "iopub.status.idle": "2025-03-09T21:09:39.862869Z",
     "shell.execute_reply": "2025-03-09T21:09:39.862197Z",
     "shell.execute_reply.started": "2025-03-09T21:09:39.634348Z"
    },
    "trusted": true
   },
   "outputs": [],
   "source": [
    "from huggingface_hub import login\n",
    "from kaggle_secrets import UserSecretsClient\n",
    "user_secrets = UserSecretsClient()\n",
    "\n",
    "hf_token = user_secrets.get_secret(\"HUGGINGFACE_TOKEN\")\n",
    "login(token = hf_token)"
   ]
  },
  {
   "cell_type": "code",
   "execution_count": 30,
   "metadata": {
    "execution": {
     "iopub.execute_input": "2025-03-09T21:10:31.786090Z",
     "iopub.status.busy": "2025-03-09T21:10:31.785731Z",
     "iopub.status.idle": "2025-03-09T21:10:31.790201Z",
     "shell.execute_reply": "2025-03-09T21:10:31.789243Z",
     "shell.execute_reply.started": "2025-03-09T21:10:31.786062Z"
    },
    "trusted": true
   },
   "outputs": [],
   "source": [
    "# Model\n",
    "base_model_url = \"/kaggle/input/llama-3.2/transformers/3b-instruct/1\"\n",
    "# new_model_url = \"/kaggle/input/fine-tune-llama-3-2-on-customer-support/llama-3.2-3b-it-Ecommerce-ChatBot/\"\n",
    "# new_model_url = \"/kaggle/working/fine-tune-llama-3-2-on-customer-support/llama-3.2-3b-it-Ecommerce-ChatBot/\"\n",
    "# new_model_url = \"/kaggle/working/llama-3.2-3b-it-Ecommerce-ChatBot/checkpoint-450/\"\n",
    "# new_model_url = \"/kaggle/working/llama-3.2-3b-medieval-arms-and-armor/checkpoint-2000/\"\n",
    "new_model_url = \"/kaggle/working/llama-3.2-3b-medieval-arms-and-armor/checkpoint-600/\""
   ]
  },
  {
   "cell_type": "code",
   "execution_count": 31,
   "metadata": {
    "execution": {
     "iopub.execute_input": "2025-03-09T21:10:31.793333Z",
     "iopub.status.busy": "2025-03-09T21:10:31.793100Z",
     "iopub.status.idle": "2025-03-09T21:10:39.424900Z",
     "shell.execute_reply": "2025-03-09T21:10:39.424191Z",
     "shell.execute_reply.started": "2025-03-09T21:10:31.793313Z"
    },
    "trusted": true
   },
   "outputs": [
    {
     "data": {
      "application/vnd.jupyter.widget-view+json": {
       "model_id": "4598b2f716dc437b93483a7b151c07a0",
       "version_major": 2,
       "version_minor": 0
      },
      "text/plain": [
       "Loading checkpoint shards:   0%|          | 0/2 [00:00<?, ?it/s]"
      ]
     },
     "metadata": {},
     "output_type": "display_data"
    }
   ],
   "source": [
    "from transformers import AutoModelForCausalLM, AutoTokenizer, BitsAndBytesConfig, pipeline\n",
    "from peft import PeftModel\n",
    "import torch\n",
    "from trl import setup_chat_format\n",
    "# Reload tokenizer and model\n",
    "tokenizer = AutoTokenizer.from_pretrained(base_model_url)\n",
    "\n",
    "base_model_reload= AutoModelForCausalLM.from_pretrained(\n",
    "    base_model_url,\n",
    "    low_cpu_mem_usage=True,\n",
    "    return_dict=True,\n",
    "    torch_dtype=torch.float16,\n",
    "    device_map=\"auto\",\n",
    ")"
   ]
  },
  {
   "cell_type": "code",
   "execution_count": 32,
   "metadata": {
    "execution": {
     "iopub.execute_input": "2025-03-09T21:10:39.426156Z",
     "iopub.status.busy": "2025-03-09T21:10:39.425925Z",
     "iopub.status.idle": "2025-03-09T21:10:39.429703Z",
     "shell.execute_reply": "2025-03-09T21:10:39.428816Z",
     "shell.execute_reply.started": "2025-03-09T21:10:39.426135Z"
    },
    "trusted": true
   },
   "outputs": [],
   "source": [
    "tokenizer.chat_template = None"
   ]
  },
  {
   "cell_type": "code",
   "execution_count": 33,
   "metadata": {
    "execution": {
     "iopub.execute_input": "2025-03-09T21:10:39.431466Z",
     "iopub.status.busy": "2025-03-09T21:10:39.431205Z",
     "iopub.status.idle": "2025-03-09T21:10:41.452683Z",
     "shell.execute_reply": "2025-03-09T21:10:41.451977Z",
     "shell.execute_reply.started": "2025-03-09T21:10:39.431447Z"
    },
    "trusted": true
   },
   "outputs": [],
   "source": [
    "# Merge adapter with base model\n",
    "base_model_reload, tokenizer = setup_chat_format(base_model_reload, tokenizer)\n",
    "model = PeftModel.from_pretrained(base_model_reload, new_model_url)\n",
    "\n",
    "model = model.merge_and_unload()"
   ]
  },
  {
   "cell_type": "code",
   "execution_count": 38,
   "metadata": {
    "execution": {
     "iopub.execute_input": "2025-03-09T21:12:08.452563Z",
     "iopub.status.busy": "2025-03-09T21:12:08.452215Z",
     "iopub.status.idle": "2025-03-09T21:12:15.592361Z",
     "shell.execute_reply": "2025-03-09T21:12:15.591350Z",
     "shell.execute_reply.started": "2025-03-09T21:12:08.452528Z"
    },
    "trusted": true
   },
   "outputs": [
    {
     "name": "stdout",
     "output_type": "stream",
     "text": [
      "\n",
      "Chain mail was made from interwoven metal rings, often made of iron or later steel, which provided flexibility and protection against blunt force.\n"
     ]
    }
   ],
   "source": [
    "# instruction = \"\"\"You are a top-rated customer service agent named John. \n",
    "#     Be polite to customers and answer all their questions.\n",
    "#     \"\"\"\n",
    "instruction = \"You are a helpful historian, trained in medieval arms and armor. Be polite and answer all questions.\"\n",
    "\n",
    "messages = [{\"role\": \"system\", \"content\": instruction},\n",
    "    {\"role\": \"user\", \"content\": \"What type of metal was used on a chain mail?\"}]\n",
    "\n",
    "prompt = tokenizer.apply_chat_template(messages, tokenize=False, add_generation_prompt=True)\n",
    "    \n",
    "inputs = tokenizer(prompt, return_tensors='pt', padding=True, truncation=True).to(\"cuda\")\n",
    "\n",
    "outputs = model.generate(**inputs, max_new_tokens=150, num_return_sequences=1)\n",
    "\n",
    "text = tokenizer.decode(outputs[0], skip_special_tokens=True)\n",
    "\n",
    "print(text.split(\"assistant\")[1])"
   ]
  },
  {
   "cell_type": "code",
   "execution_count": 35,
   "metadata": {
    "execution": {
     "iopub.execute_input": "2025-03-09T21:10:48.632645Z",
     "iopub.status.busy": "2025-03-09T21:10:48.632290Z",
     "iopub.status.idle": "2025-03-09T21:11:06.434599Z",
     "shell.execute_reply": "2025-03-09T21:11:06.433828Z",
     "shell.execute_reply.started": "2025-03-09T21:10:48.632610Z"
    },
    "trusted": true
   },
   "outputs": [
    {
     "data": {
      "text/plain": [
       "('llama-3.2-3b-medieval-arms-and-armor/tokenizer_config.json',\n",
       " 'llama-3.2-3b-medieval-arms-and-armor/special_tokens_map.json',\n",
       " 'llama-3.2-3b-medieval-arms-and-armor/tokenizer.json')"
      ]
     },
     "execution_count": 35,
     "metadata": {},
     "output_type": "execute_result"
    }
   ],
   "source": [
    "new_model = \"llama-3.2-3b-medieval-arms-and-armor\"\n",
    "\n",
    "model.save_pretrained(new_model)\n",
    "tokenizer.save_pretrained(new_model)"
   ]
  },
  {
   "cell_type": "code",
   "execution_count": 39,
   "metadata": {
    "execution": {
     "iopub.execute_input": "2025-03-09T21:12:35.330770Z",
     "iopub.status.busy": "2025-03-09T21:12:35.330441Z",
     "iopub.status.idle": "2025-03-09T21:14:59.970304Z",
     "shell.execute_reply": "2025-03-09T21:14:59.969315Z",
     "shell.execute_reply.started": "2025-03-09T21:12:35.330746Z"
    },
    "trusted": true
   },
   "outputs": [
    {
     "data": {
      "application/vnd.jupyter.widget-view+json": {
       "model_id": "138fb9644d784d218ff13ddcb0d42b00",
       "version_major": 2,
       "version_minor": 0
      },
      "text/plain": [
       "model-00002-of-00002.safetensors:   0%|          | 0.00/1.46G [00:00<?, ?B/s]"
      ]
     },
     "metadata": {},
     "output_type": "display_data"
    },
    {
     "data": {
      "application/vnd.jupyter.widget-view+json": {
       "model_id": "58eb7fe242aa4142b135fdffa52c64ca",
       "version_major": 2,
       "version_minor": 0
      },
      "text/plain": [
       "Upload 2 LFS files:   0%|          | 0/2 [00:00<?, ?it/s]"
      ]
     },
     "metadata": {},
     "output_type": "display_data"
    },
    {
     "data": {
      "application/vnd.jupyter.widget-view+json": {
       "model_id": "b869115e9d8f4871b987d858a73ec1c6",
       "version_major": 2,
       "version_minor": 0
      },
      "text/plain": [
       "model-00001-of-00002.safetensors:   0%|          | 0.00/4.97G [00:00<?, ?B/s]"
      ]
     },
     "metadata": {},
     "output_type": "display_data"
    },
    {
     "name": "stderr",
     "output_type": "stream",
     "text": [
      "No files have been modified since last commit. Skipping to prevent empty commit.\n"
     ]
    },
    {
     "data": {
      "text/plain": [
       "CommitInfo(commit_url='https://huggingface.co/madks/llama-3.2-3b-medieval-arms-and-armor/commit/9c2f210a1e093ebdf4e4ea161fe3585f031d8174', commit_message='Upload tokenizer', commit_description='', oid='9c2f210a1e093ebdf4e4ea161fe3585f031d8174', pr_url=None, repo_url=RepoUrl('https://huggingface.co/madks/llama-3.2-3b-medieval-arms-and-armor', endpoint='https://huggingface.co', repo_type='model', repo_id='madks/llama-3.2-3b-medieval-arms-and-armor'), pr_revision=None, pr_num=None)"
      ]
     },
     "execution_count": 39,
     "metadata": {},
     "output_type": "execute_result"
    }
   ],
   "source": [
    "model.push_to_hub(new_model, use_temp_dir=False)\n",
    "tokenizer.push_to_hub(new_model, use_temp_dir=False)"
   ]
  }
 ],
 "metadata": {
  "kaggle": {
   "accelerator": "nvidiaTeslaT4",
   "dataSources": [
    {
     "modelId": 121027,
     "modelInstanceId": 100936,
     "sourceId": 120005,
     "sourceType": "modelInstanceVersion"
    }
   ],
   "dockerImageVersionId": 30918,
   "isGpuEnabled": true,
   "isInternetEnabled": true,
   "language": "python",
   "sourceType": "notebook"
  },
  "kernelspec": {
   "display_name": "Python 3",
   "language": "python",
   "name": "python3"
  },
  "language_info": {
   "codemirror_mode": {
    "name": "ipython",
    "version": 3
   },
   "file_extension": ".py",
   "mimetype": "text/x-python",
   "name": "python",
   "nbconvert_exporter": "python",
   "pygments_lexer": "ipython3",
   "version": "3.10.12"
  }
 },
 "nbformat": 4,
 "nbformat_minor": 4
}
